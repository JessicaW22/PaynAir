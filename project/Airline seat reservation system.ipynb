{
 "cells": [
  {
   "cell_type": "code",
   "execution_count": 1,
   "id": "8907d1cc-7646-473b-b189-506029e9a2ed",
   "metadata": {},
   "outputs": [],
   "source": [
    "def getdata(question, maxvalue):\n",
    "    while True:\n",
    "        data = input(question)\n",
    "        if data.isdigit() and int(data) <= maxvalue and int(data) >= 1:\n",
    "            data = int(data)\n",
    "            break\n",
    "        else:\n",
    "            print(\"Your input is invalid. Please enter a valid input.\")\n",
    "    return data"
   ]
  },
  {
   "cell_type": "code",
   "execution_count": null,
   "id": "64dfe1f6-3df9-4c72-8ba6-7e56436b7868",
   "metadata": {},
   "outputs": [],
   "source": []
  },
  {
   "cell_type": "code",
   "execution_count": 2,
   "id": "0b2d2471-dc61-4ee4-b28b-5d1686e7c727",
   "metadata": {},
   "outputs": [],
   "source": [
    "def reservation():\n",
    "    plane={}\n",
    "    plane[13] = \"D.B. Cooper\"\n",
    "    \n",
    "    total_seats = 60\n",
    "    total_rows = 10\n",
    "    total_cols = 6\n",
    "    \n",
    "    reserved_seat_numbers = []\n",
    "    available_seat_list = []\n",
    "    \n",
    "    Userlist = [(\"m.peters\",\"Moritz Peters\", \"User\", \"PaynAir\"),(\"l.peters\",\"Leonie Peters\", \"User\", \"PaynAir\"),(\"m.grapengießer\",\"Maya Grapengießer\", \"User\", \"PaynAir\"),(\"j.wernet\",\"Jessica Wernet\", \"User\", \"PaynAir\"), (\"admin\", \"PaynAir\", \"Admin\", \"PaynAir\")]\n",
    "    \n",
    "    while True:\n",
    "\n",
    "    #Choose an option\n",
    "        print(\" \")\n",
    "        print(\"Please choose an option: \")\n",
    "        print(\"1. Reserve a Seat\")\n",
    "        print(\"2. Cancel a Reservation\")\n",
    "        print(\"3. Display Reservations\")\n",
    "        print(\"4. Save Reservations\")\n",
    "        print(\"5. Advanced Statistics (Admin)\")\n",
    "        print(\"6. Exit\")\n",
    "    \n",
    "        co=int(input(\"Enter a choice: \"))\n",
    "    \n",
    "        if co == 1:\n",
    "    \n",
    "            row = getdata(\"Please enter your preferred row (1 - 10): \", 10)\n",
    "            col = getdata(\"Please enter your preferred seat number (1 - 6): \", 6)\n",
    "            \n",
    "            # Since lists start at index 0, the formula will be adjusted to accomodate\n",
    "            seat = (row - 1) * 6 + col - 1                      \n",
    "    \n",
    "            # Check if seat has been taken if not reserve\n",
    "            if seat in plane:\n",
    "                name = plane[seat]\n",
    "                print(\"Seat\", (seat + 1), \"has already been reserved by \" + plane[seat])\n",
    "            else:\n",
    "                name = input(\"Please enter your name \")\n",
    "                plane[seat] = name\n",
    "                print(\"Seat\", (seat + 1), \"has been reserved for\", name)\n",
    "            \n",
    "            \n",
    "        elif co == 2:\n",
    "            row = int(input(\"Row (1 - 10): \"))\n",
    "            col = int(input(\"Seat# (1 - 6): \"))\n",
    "    \n",
    "            seat = (row - 1) * 6 + col - 1\n",
    "        \n",
    "            if seat in plane:\n",
    "                del plane[seat]\n",
    "                print(\"The reservation for seat\", (seat + 1), \"has been cancelled.\")\n",
    "                input(\"Press enter to continue...\")\n",
    "            else:\n",
    "                print(\"Seat\", (seat + 1), \"is not currently reserved by anyone.\")\n",
    "                input(\"Press enter to continue...\")\n",
    "                \n",
    "                    \n",
    "        elif co == 3:\n",
    "            print(\"Reservations:\")\n",
    "            \n",
    "            sorted_list = sorted(plane.items())\n",
    "            for i in sorted_list:\n",
    "                print((i[0] + 1), \"\\t\", i[1])\n",
    "            \n",
    "            \n",
    "        elif co == 4:\n",
    "            with open('plane.txt', 'w') as f:\n",
    "                for line in plane:\n",
    "                    record = plane[line] + \" \" + str(line - 1)\n",
    "                    f.write(record)\n",
    "            f.close()\n",
    "            print(\"Reservations saved!\")\n",
    "            input(\"Press enter to continue...\")\n",
    "    \n",
    "    \n",
    "        elif co == 5:\n",
    "            print(\"Accessing advanced statistics.\")\n",
    "            username = input(\"Enter username: \")\n",
    "            password = input(\"Enter password: \")\n",
    "            if username == \"admin\" and password == \"admin\":\n",
    "                print(\"Welcome Admin!\")\n",
    "                \n",
    "                #---------------------------------------------------------------------------------------------------------------------------------------------------\n",
    "                #-----------------------  DANGER! MATHEMATICS! -----------------------------------------------------------------------------------------------------\n",
    "                #---------------------------------------------------------------------------------------------------------------------------------------------------\n",
    "                #Calculate the total number of available seats aswell as turn it into a percentage\n",
    "                available_seats = total_seats - len(plane)\n",
    "                available_seats_perc = round(((total_seats - len(plane)) / total_seats), 2)\n",
    "                \n",
    "                #Calculate the total number of reserved seats aswell as turn that in to a percentage\n",
    "                reserved_seats = len(plane) \n",
    "                reserved_seats_perc = round((len(plane)/total_seats), 2)\n",
    "                    \n",
    "                #Get a passenger list - just the names of all passengers, sorted in ascending order by their corresponding seat numbers\n",
    "                passenger_list = list(plane.values())\n",
    "                    \n",
    "                #Get the number of reserved seat numbers in ascending order.\n",
    "                for i in plane:\n",
    "                    reserved_seat_numbers.append(i + 1)\n",
    "                reserved_seat_numbers = sorted(reserved_seat_numbers)\n",
    "                    \n",
    "                #Get the number of available seats by removing the reserved ones from a list containing all possible seats\n",
    "                total_seat_numbers = []\n",
    "                for i in range(1,61):\n",
    "                    total_seat_numbers.append(i)\n",
    "                    \n",
    "                #Remove all reserved seats from the list of all seats to obtain the available seats\n",
    "                for k in reserved_seat_numbers:\n",
    "                    total_seat_numbers.remove(k)\n",
    "                available_seat_numbers = total_seat_numbers    \n",
    "                \n",
    "                seat_name_tuples = sorted(plane.items())\n",
    "                \n",
    "                    \n",
    "                #---------------------------------------------------------------------------------------------------------------------------------------------------\n",
    "                \n",
    "                \n",
    "                while True:\n",
    "                    print(\" \")\n",
    "                    admin_choice = int(input(\"Select what you want to obtain more information about:\\n1. Number and percentage of availiable seats\\n2. Number and percentage of reserved seats\\n3. List of seats that are available\\n4. List of seats that are reserved\\n5. Number of users in the system with their information.\\n6. Save statistics as textfile\\n7. Log out\\nEnter your choice: \"))\n",
    "                    #Available seat number and percentage\n",
    "                    if admin_choice == 1:\n",
    "                        print(\"The number of available seats is: \", available_seats)\n",
    "                        print(\"The percentage of seats available is: \", available_seats_perc*100, \"%\")\n",
    "                    \n",
    "                    #Reserved seat number and percentage\n",
    "                    elif admin_choice == 2:\n",
    "                        print(\"The number of reserved seats is: \", reserved_seats)\n",
    "                        print(\"The percentage of seats reserved is: \", reserved_seats_perc*100, \"%\")\n",
    "                    \n",
    "                    #Get the numbers of the seats that are available\n",
    "                    elif admin_choice == 3:\n",
    "                        print(\"The number of available seats are: \", available_seat_numbers)\n",
    "                    \n",
    "                    #Get the numbers of the seats that are not available\n",
    "                    elif admin_choice == 4:    \n",
    "                        print(\"The numbers of all reserved seats are: \")\n",
    "                        print(reserved_seat_numbers)\n",
    "                    \n",
    "                    #Get information about the users\n",
    "                    elif admin_choice == 5:\n",
    "                        \n",
    "                        print(\"The userinformation is shown below. (Username, Real Name, User-Type, Creator)\")\n",
    "                        for i in Userlist:\n",
    "                            print(\"{:<30} {:<30} {:<30} {:<30}\".format(i[0], i[1], i[2], i[3]))\n",
    "                    \n",
    "                    elif admin_choice == 6:\n",
    "                        with open('statistics.txt', 'w') as g:\n",
    "                            g.write(\"Total number of seats available: \\t\")\n",
    "                            g.write(str(available_seats))\n",
    "                            \n",
    "                            g.write(\"\\nPercentage of seats available: \\t\")\n",
    "                            g.write(str(available_seats_perc*100) + \"%\")\n",
    "                            \n",
    "                            g.write(\"\\nTotal number of seats reserved: \\t\")\n",
    "                            g.write(str(reserved_seats))\n",
    "                            \n",
    "                            g.write(\"\\nPercentage of seats reserved: \\t\")\n",
    "                            g.write(str(reserved_seats_perc*100) + \"%\")\n",
    "                            \n",
    "                            g.write(\"\\n\\nList of seats available \\n\")\n",
    "    \n",
    "                            g.write(str(available_seat_numbers))\n",
    "                            \n",
    "                            \n",
    "                            g.write(\"\\n\\nList of seats reserved \\n\")\n",
    "                            \n",
    "                            g.write(str(reserved_seat_numbers))\n",
    "                            \n",
    "                            g.write(\"\\n\\nList of corresponding passengers and seats\\n\")\n",
    "                            for j in seat_name_tuples:\n",
    "                                g.write(\"{:<30} {:<30}\".format(j[0]+1, j[1]) + \"\\n\")\n",
    "                            \n",
    "                            g.write(\"\\n\\nUserinfo\\n\")\n",
    "                            \n",
    "                            for i in Userlist:\n",
    "                                g.write(\"{:<30} {:<30} {:<30} {:<30}\".format(i[0], i[1], i[2], i[3]) + \"\\n\")\n",
    "                        g.close()\n",
    "                        \n",
    "                        \n",
    "                    elif admin_choice == 7:\n",
    "                        break\n",
    "                        print(\"Exiting advanced statistics. You are brought back to the user functions.\")\n",
    "                    \n",
    "            \n",
    "            else:\n",
    "                print(\"Your usename and/or password was incorrect. Try again or accept that you are not an admin.\")\n",
    "            \n",
    "            \n",
    "        elif co == 6:\n",
    "            print(\"You have exited the seat reservation system. Thank you for using our service!\")\n",
    "            break\n",
    "            \n",
    "            \n",
    "            "
   ]
  },
  {
   "cell_type": "code",
   "execution_count": 3,
   "id": "f4d0af6c-64c6-498a-b22b-65a9dbb4ee63",
   "metadata": {},
   "outputs": [
    {
     "name": "stdout",
     "output_type": "stream",
     "text": [
      " \n",
      "Please choose an option: \n",
      "1. Reserve a Seat\n",
      "2. Cancel a Reservation\n",
      "3. Display Reservations\n",
      "4. Save Reservations\n",
      "5. Advanced Statistics (Admin)\n",
      "6. Exit\n"
     ]
    },
    {
     "name": "stdin",
     "output_type": "stream",
     "text": [
      "Enter a choice:  1\n",
      "Please enter your preferred row (1 - 10):  3\n",
      "Please enter your preferred seat number (1 - 6):  6\n",
      "Please enter your name  Yeet\n"
     ]
    },
    {
     "name": "stdout",
     "output_type": "stream",
     "text": [
      "Seat 18 has been reserved for Yeet\n",
      " \n",
      "Please choose an option: \n",
      "1. Reserve a Seat\n",
      "2. Cancel a Reservation\n",
      "3. Display Reservations\n",
      "4. Save Reservations\n",
      "5. Advanced Statistics (Admin)\n",
      "6. Exit\n"
     ]
    },
    {
     "name": "stdin",
     "output_type": "stream",
     "text": [
      "Enter a choice:  2\n",
      "Row (1 - 10):  3\n",
      "Seat# (1 - 6):  6\n"
     ]
    },
    {
     "name": "stdout",
     "output_type": "stream",
     "text": [
      "The reservation for seat 18 has been cancelled.\n"
     ]
    },
    {
     "name": "stdin",
     "output_type": "stream",
     "text": [
      "Press enter to continue... 3\n"
     ]
    },
    {
     "name": "stdout",
     "output_type": "stream",
     "text": [
      " \n",
      "Please choose an option: \n",
      "1. Reserve a Seat\n",
      "2. Cancel a Reservation\n",
      "3. Display Reservations\n",
      "4. Save Reservations\n",
      "5. Advanced Statistics (Admin)\n",
      "6. Exit\n"
     ]
    },
    {
     "name": "stdin",
     "output_type": "stream",
     "text": [
      "Enter a choice:  4\n"
     ]
    },
    {
     "name": "stdout",
     "output_type": "stream",
     "text": [
      "Reservations saved!\n"
     ]
    },
    {
     "name": "stdin",
     "output_type": "stream",
     "text": [
      "Press enter to continue... 5\n"
     ]
    },
    {
     "name": "stdout",
     "output_type": "stream",
     "text": [
      " \n",
      "Please choose an option: \n",
      "1. Reserve a Seat\n",
      "2. Cancel a Reservation\n",
      "3. Display Reservations\n",
      "4. Save Reservations\n",
      "5. Advanced Statistics (Admin)\n",
      "6. Exit\n"
     ]
    },
    {
     "name": "stdin",
     "output_type": "stream",
     "text": [
      "Enter a choice:  5\n"
     ]
    },
    {
     "name": "stdout",
     "output_type": "stream",
     "text": [
      "Accessing advanced statistics.\n"
     ]
    },
    {
     "name": "stdin",
     "output_type": "stream",
     "text": [
      "Enter username:  admin\n",
      "Enter password:  admin\n"
     ]
    },
    {
     "name": "stdout",
     "output_type": "stream",
     "text": [
      "Welcome Admin!\n",
      " \n"
     ]
    },
    {
     "name": "stdin",
     "output_type": "stream",
     "text": [
      "Select what you want to obtain more information about:\n",
      "1. Number and percentage of availiable seats\n",
      "2. Number and percentage of reserved seats\n",
      "3. List of seats that are available\n",
      "4. List of seats that are reserved\n",
      "5. Number of users in the system with their information.\n",
      "6. Save statistics as textfile\n",
      "7. Log out\n",
      "Enter your choice:  1\n"
     ]
    },
    {
     "name": "stdout",
     "output_type": "stream",
     "text": [
      "The number of available seats is:  59\n",
      "The percentage of seats available is:  98.0 %\n",
      " \n"
     ]
    },
    {
     "name": "stdin",
     "output_type": "stream",
     "text": [
      "Select what you want to obtain more information about:\n",
      "1. Number and percentage of availiable seats\n",
      "2. Number and percentage of reserved seats\n",
      "3. List of seats that are available\n",
      "4. List of seats that are reserved\n",
      "5. Number of users in the system with their information.\n",
      "6. Save statistics as textfile\n",
      "7. Log out\n",
      "Enter your choice:  2\n"
     ]
    },
    {
     "name": "stdout",
     "output_type": "stream",
     "text": [
      "The number of reserved seats is:  1\n",
      "The percentage of seats reserved is:  2.0 %\n",
      " \n"
     ]
    },
    {
     "name": "stdin",
     "output_type": "stream",
     "text": [
      "Select what you want to obtain more information about:\n",
      "1. Number and percentage of availiable seats\n",
      "2. Number and percentage of reserved seats\n",
      "3. List of seats that are available\n",
      "4. List of seats that are reserved\n",
      "5. Number of users in the system with their information.\n",
      "6. Save statistics as textfile\n",
      "7. Log out\n",
      "Enter your choice:  3\n"
     ]
    },
    {
     "name": "stdout",
     "output_type": "stream",
     "text": [
      "The number of available seats are:  [1, 2, 3, 4, 5, 6, 7, 8, 9, 10, 11, 12, 13, 15, 16, 17, 18, 19, 20, 21, 22, 23, 24, 25, 26, 27, 28, 29, 30, 31, 32, 33, 34, 35, 36, 37, 38, 39, 40, 41, 42, 43, 44, 45, 46, 47, 48, 49, 50, 51, 52, 53, 54, 55, 56, 57, 58, 59, 60]\n",
      " \n"
     ]
    },
    {
     "name": "stdin",
     "output_type": "stream",
     "text": [
      "Select what you want to obtain more information about:\n",
      "1. Number and percentage of availiable seats\n",
      "2. Number and percentage of reserved seats\n",
      "3. List of seats that are available\n",
      "4. List of seats that are reserved\n",
      "5. Number of users in the system with their information.\n",
      "6. Save statistics as textfile\n",
      "7. Log out\n",
      "Enter your choice:  4\n"
     ]
    },
    {
     "name": "stdout",
     "output_type": "stream",
     "text": [
      "The numbers of all reserved seats are: \n",
      "[14]\n",
      " \n"
     ]
    },
    {
     "name": "stdin",
     "output_type": "stream",
     "text": [
      "Select what you want to obtain more information about:\n",
      "1. Number and percentage of availiable seats\n",
      "2. Number and percentage of reserved seats\n",
      "3. List of seats that are available\n",
      "4. List of seats that are reserved\n",
      "5. Number of users in the system with their information.\n",
      "6. Save statistics as textfile\n",
      "7. Log out\n",
      "Enter your choice:  5\n"
     ]
    },
    {
     "name": "stdout",
     "output_type": "stream",
     "text": [
      "The userinformation is shown below. (Username, Real Name, User-Type, Creator)\n",
      "m.peters                       Moritz Peters                  User                           PaynAir                       \n",
      "l.peters                       Leonie Peters                  User                           PaynAir                       \n",
      "m.grapengießer                 Maya Grapengießer              User                           PaynAir                       \n",
      "j.wernet                       Jessica Wernet                 User                           PaynAir                       \n",
      "admin                          PaynAir                        Admin                          PaynAir                       \n",
      " \n"
     ]
    },
    {
     "name": "stdin",
     "output_type": "stream",
     "text": [
      "Select what you want to obtain more information about:\n",
      "1. Number and percentage of availiable seats\n",
      "2. Number and percentage of reserved seats\n",
      "3. List of seats that are available\n",
      "4. List of seats that are reserved\n",
      "5. Number of users in the system with their information.\n",
      "6. Save statistics as textfile\n",
      "7. Log out\n",
      "Enter your choice:  6\n"
     ]
    },
    {
     "name": "stdout",
     "output_type": "stream",
     "text": [
      " \n"
     ]
    },
    {
     "name": "stdin",
     "output_type": "stream",
     "text": [
      "Select what you want to obtain more information about:\n",
      "1. Number and percentage of availiable seats\n",
      "2. Number and percentage of reserved seats\n",
      "3. List of seats that are available\n",
      "4. List of seats that are reserved\n",
      "5. Number of users in the system with their information.\n",
      "6. Save statistics as textfile\n",
      "7. Log out\n",
      "Enter your choice:  7\n"
     ]
    },
    {
     "name": "stdout",
     "output_type": "stream",
     "text": [
      " \n",
      "Please choose an option: \n",
      "1. Reserve a Seat\n",
      "2. Cancel a Reservation\n",
      "3. Display Reservations\n",
      "4. Save Reservations\n",
      "5. Advanced Statistics (Admin)\n",
      "6. Exit\n"
     ]
    },
    {
     "name": "stdin",
     "output_type": "stream",
     "text": [
      "Enter a choice:  6\n"
     ]
    },
    {
     "name": "stdout",
     "output_type": "stream",
     "text": [
      "You have exited the seat reservation system. Thank you for using our service!\n"
     ]
    }
   ],
   "source": [
    "reservation()"
   ]
  },
  {
   "cell_type": "code",
   "execution_count": null,
   "id": "6d67178e-2dbc-4ba9-aa92-6817db4be308",
   "metadata": {},
   "outputs": [],
   "source": []
  }
 ],
 "metadata": {
  "kernelspec": {
   "display_name": "Python 3 (ipykernel)",
   "language": "python",
   "name": "python3"
  },
  "language_info": {
   "codemirror_mode": {
    "name": "ipython",
    "version": 3
   },
   "file_extension": ".py",
   "mimetype": "text/x-python",
   "name": "python",
   "nbconvert_exporter": "python",
   "pygments_lexer": "ipython3",
   "version": "3.10.6"
  }
 },
 "nbformat": 4,
 "nbformat_minor": 5
}
