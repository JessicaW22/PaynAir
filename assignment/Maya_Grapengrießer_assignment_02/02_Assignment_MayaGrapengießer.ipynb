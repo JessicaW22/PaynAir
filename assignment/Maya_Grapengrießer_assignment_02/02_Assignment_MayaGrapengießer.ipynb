{
 "cells": [
  {
   "cell_type": "markdown",
   "metadata": {
    "id": "LZgQdr4W6iKz"
   },
   "source": [
    "# Assignment 02\n",
    "##### Python Basics II\n",
    "\n",
    "This tutorial was written by Terry Ruas (University of Göttingen); The references for external contributors for which this material was anyhow adapted/inspired are in the Acknowledgments section (end of the document).\n"
   ]
  },
  {
   "cell_type": "markdown",
   "metadata": {
    "id": "Yvektzz_6iK1"
   },
   "source": [
    "This notebook will cover the following tasks:\n",
    "\n",
    "1. String Length\n",
    "2. Largest List Element\n",
    "3. Character Frequency\n",
    "4. Sorted List of Tuples\n",
    "5. Check Brackets\n",
    "6. Check Brackets II\n",
    "7. Queue\n",
    "8. Unlimited Power\n",
    "9. Unlimited Power II"
   ]
  },
  {
   "cell_type": "markdown",
   "metadata": {
    "id": "4GPUv_8U6iK1"
   },
   "source": [
    "## Task 01 – String Length\n",
    "Write a program that reads in a string and prints the length of the input string. Do not use any built-in functions of Python, such as len().\n",
    "For example, if the input is “Computer Science”, the output should be length: 16."
   ]
  },
  {
   "cell_type": "code",
   "execution_count": 7,
   "metadata": {
    "id": "xt3XV0YD6iK2"
   },
   "outputs": [
    {
     "name": "stdin",
     "output_type": "stream",
     "text": [
      "please enter a word hallo\n"
     ]
    },
    {
     "name": "stdout",
     "output_type": "stream",
     "text": [
      "5\n"
     ]
    }
   ],
   "source": [
    "str=input(\"please enter a word\")\n",
    "counter=0\n",
    "while str[counter:]:   \n",
    " counter=counter+1\n",
    "print(counter)"
   ]
  },
  {
   "cell_type": "markdown",
   "metadata": {
    "id": "_Jz4T4AQ6iK3"
   },
   "source": [
    "## Task 02 – Largest List Element\n",
    "Write a program that generates a list of 10 random integers between 1 and 100 and then finds and prints the largest element in the list. Do not use the built-in function max().\n",
    "For example, if the input is [23,3,42,29,12,15,8,4,37,34], the output should be the largest element: 42.\n",
    "\n",
    "Hint: Check out the module [random](https://docs.python.org/3.7/library/random.html)."
   ]
  },
  {
   "cell_type": "code",
   "execution_count": 7,
   "metadata": {
    "id": "aKLGcZ0_6iK3"
   },
   "outputs": [
    {
     "name": "stdout",
     "output_type": "stream",
     "text": [
      "[1, 5, 30, 24, 45]\n",
      "smallest element is: 1\n",
      "largest element is: 45\n"
     ]
    }
   ],
   "source": [
    "mylist=[1,5,30,24,45]\n",
    "\n",
    "print(mylist)\n",
    "\n",
    "print(\"smallest element is:\",mylist[0]) #1\n",
    "print(\"largest element is:\",mylist[-1]) #100\n",
    "\n",
    "list=[1,5,30,24,45]\n"
   ]
  },
  {
   "cell_type": "markdown",
   "metadata": {
    "id": "PalhJ9x36iK4"
   },
   "source": [
    "## Task 03 – Character Frequency\n",
    "Write a program that:\n",
    "* Reads in a string and removes any spaces from the string\n",
    "* Counts how often individual characters occur in the string\n",
    "* Stores the information on character occurrence frequency in a dictionary\n",
    "* Prints the dictionary.\n",
    "\n",
    "For example, if the input is “santa claus”, the output should be:\n",
    "{'s': 2, 'a': 3, 'n': 1, 't': 1, 'c': 1, 'l': 1, 'u': 1}."
   ]
  },
  {
   "cell_type": "code",
   "execution_count": 18,
   "metadata": {
    "id": "vm5UlcKB6iK4"
   },
   "outputs": [
    {
     "name": "stdin",
     "output_type": "stream",
     "text": [
      "enter a word Lagerregal\n"
     ]
    },
    {
     "name": "stdout",
     "output_type": "stream",
     "text": [
      "Lagerregal\n",
      "{'L': 1, 'a': 2, 'g': 2, 'e': 2, 'r': 2, 'l': 1}\n"
     ]
    }
   ],
   "source": [
    "word = input(\"enter a word\")\n",
    "\n",
    "symbols = \"\".join(word)\n",
    "print(symbols)\n",
    "dct = {}\n",
    "for i in symbols: \n",
    "    if i in dct:\n",
    "        dct[i] += 1\n",
    "    else:\n",
    "        dct[i] = 1 \n",
    "            \n",
    "print(dct)"
   ]
  },
  {
   "cell_type": "markdown",
   "metadata": {
    "id": "JV1Mm9qA6iK5"
   },
   "source": [
    "## Task 04 – Sorted List of Tuples\n",
    "Write a program that:\n",
    "* Generates a list of 10 tuples, each tuple consisting of 3 random integers between 1 and 100\n",
    "* Sorts the list of tuples in increasing order of the third element in each tuple\n",
    "* Prints the sorted list of tuples\n",
    "\n",
    "For example, if the generated input list is: [(56, 77, 69), (43, 30, 38), (2, 77, 101), (93, 57, 4), (74, 21, 77), (39, 68, 68), (65, 53, 96), (16, 29, 88), (88, 70, 38)]\n",
    "The output should be: [(93, 57, 4), (43, 30, 38), (88, 70, 38), (39, 68, 68), (56, 77, 69), (74, 21, 77), (16, 29, 88), (65, 53, 96), (2, 77, 101)]\n",
    "\n",
    "Hint: You are allowed and encouraged to use built-in functions, such as [sorted()](https://docs.python.org/3.7/library/functions.html?highlight=sorted#sorted), for this task."
   ]
  },
  {
   "cell_type": "code",
   "execution_count": 3,
   "metadata": {
    "id": "C3i7ctus6iK6"
   },
   "outputs": [
    {
     "name": "stdout",
     "output_type": "stream",
     "text": [
      "My Original Tuple is: [(12, 45, 16), (56, 87, 10), (98, 67, 44), (9, 64, 39), (59, 66, 22), (4, 6, 7), (68, 90, 33), (77, 41, 20), (88, 93, 65), (55, 11, 10)]\n",
      "sorted list of Tuple based on the First Element: [(4, 6, 7), (56, 87, 10), (55, 11, 10), (12, 45, 16), (77, 41, 20), (59, 66, 22), (68, 90, 33), (9, 64, 39), (98, 67, 44), (88, 93, 65)]\n"
     ]
    }
   ],
   "source": [
    "number_lists =[(12,45,16),(56,87,10),(98,67,44),(9,64,39),(59,66,22),(4,6,7),(68,90,33),(77,41,20),(88,93,65),(55,11,10)]\n",
    "\n",
    "print(\"My Original Tuple is:\", number_lists)\n",
    "\n",
    "number_lists.sort(key=lambda item:item[2])\n",
    "print(\"sorted list of Tuple based on the First Element:\",number_lists)\n"
   ]
  },
  {
   "cell_type": "markdown",
   "metadata": {
    "id": "qz4P36Lz6iK6",
    "tags": []
   },
   "source": [
    "## Task 05 – Check Brackets\n",
    "Write a program that reads in a string, which is supposed to be a mathematical expression. Focus on brackets only and check whether left and right brackets are composed correctly. Ignore all other characters (i.e. you don’t have to check correctness of operators and operands).\n",
    "Examples of correct input:\n",
    "* 3*(2+5)\n",
    "* ((()())())\n",
    "* (3+)(((4)))\n",
    "* Empty string\n",
    "\n",
    "Examples of incorrect input:\n",
    "* (3*(2+5)\n",
    "* ((()())(())\n",
    "* (3+)((4)))\n",
    "* ())(()\n"
   ]
  },
  {
   "cell_type": "code",
   "execution_count": 1,
   "metadata": {},
   "outputs": [
    {
     "name": "stdin",
     "output_type": "stream",
     "text": [
      "Tippe hier eine Mathematische Formel ein 3*(5+6)\n",
      " \n"
     ]
    },
    {
     "name": "stdout",
     "output_type": "stream",
     "text": [
      "Mathematisch Korrekte Eingabe\n"
     ]
    }
   ],
   "source": [
    "input(\"Tippe hier eine Mathematische Formel ein\")\n",
    "string = input()\n",
    "\n",
    "if string.count(\"(\") != string.count(\")\"):\n",
    "    print(\"Mathematisch Inkorrekte Eingabe!\")\n",
    "else:\n",
    "    print(\"Mathematisch Korrekte Eingabe\")"
   ]
  },
  {
   "cell_type": "markdown",
   "metadata": {
    "id": "k1kh3odh6iK7"
   },
   "source": [
    "## Task 06 – Check Brackets II\n",
    "Extend previous program, so it can handle also square and curly brackets. Note that expressions in brackets cannot overlap. So, expression ```{[()()]([[]])}{}``` is correct, but expression ```([)]``` is not."
   ]
  },
  {
   "cell_type": "code",
   "execution_count": 8,
   "metadata": {},
   "outputs": [
    {
     "name": "stdin",
     "output_type": "stream",
     "text": [
      "Tippe hier enige Klammern ein {{}}\n",
      " (())((()))\n"
     ]
    },
    {
     "name": "stdout",
     "output_type": "stream",
     "text": [
      "Korrekte Klammer Eingabe!\n"
     ]
    }
   ],
   "source": [
    "input(\"Tippe hier enige Klammern ein\")\n",
    "\n",
    "string = input()\n",
    "boo = False\n",
    "for i in string:       \n",
    "    if i not in \"([{}])\":\n",
    "        string =string.replace(i ,\"\")        \n",
    "string_3 = \"\"\n",
    "\n",
    "while string_3 != string:\n",
    "    string_3 =string\n",
    "    string =string.replace(\"()\",\"\")\n",
    "    string =string.replace(\"[]\",\"\")\n",
    "    string =string.replace(\"{}\",\"\")\n",
    "    \n",
    "if string == \"\":\n",
    "    print(\"Korrekte Klammer Eingabe!\")\n",
    "else:\n",
    "    print(\"Falsche Klammer Eingabe\")"
   ]
  },
  {
   "cell_type": "markdown",
   "metadata": {
    "id": "tc-8rPlP6iK7"
   },
   "source": [
    "## Task 07 – Queue\n",
    "Write a program that simulates a queue. It will read strings from the input. Consider these inputs as names of people coming to the end of a queue. Whenever “next” is given as input, the program will print out the name on the turn. The program finishes as soon as the queue is empty."
   ]
  },
  {
   "cell_type": "code",
   "execution_count": 9,
   "metadata": {
    "id": "X0o04N6s6iK7"
   },
   "outputs": [
    {
     "name": "stdin",
     "output_type": "stream",
     "text": [
      "Schreibe einen Name oder next:  Maya\n",
      "Schreibe einen Name oder next:  Leonie \n",
      "Schreibe einen Name oder next:  Tim\n",
      "Schreibe einen Name oder next:  next\n"
     ]
    },
    {
     "name": "stdout",
     "output_type": "stream",
     "text": [
      "maya\n"
     ]
    },
    {
     "name": "stdin",
     "output_type": "stream",
     "text": [
      "Schreibe einen Name oder next:  next\n"
     ]
    },
    {
     "name": "stdout",
     "output_type": "stream",
     "text": [
      "leonie \n"
     ]
    },
    {
     "name": "stdin",
     "output_type": "stream",
     "text": [
      "Schreibe einen Name oder next:  next\n"
     ]
    },
    {
     "name": "stdout",
     "output_type": "stream",
     "text": [
      "tim\n",
      "Die Liste ist leer!\n"
     ]
    }
   ],
   "source": [
    "names = []\n",
    "while True:\n",
    "    name = str(input(\"Schreibe einen Name oder next: \")).lower()\n",
    "    if name == \"next\":\n",
    "        print(names[0])\n",
    "        names.remove(names[0])\n",
    "    elif name != \"next\":\n",
    "        names.append(name)\n",
    "    if len(names) == 0:\n",
    "        break\n",
    "print(\"Die Liste ist leer!\")"
   ]
  },
  {
   "cell_type": "markdown",
   "metadata": {
    "id": "eIhaN3g36iK8",
    "tags": []
   },
   "source": [
    "## Task 08 – Unlimited Power\n",
    "Write a function with two arguments –  x  and  n . The function returns the value of  x^n. Use [recursion](https://realpython.com/python-thinking-recursively/#recursive-data-structures-in-python)."
   ]
  },
  {
   "cell_type": "code",
   "execution_count": 3,
   "metadata": {
    "id": "KSGHEAeL6iK8"
   },
   "outputs": [
    {
     "name": "stdin",
     "output_type": "stream",
     "text": [
      "x:  5\n",
      "n:  3\n"
     ]
    },
    {
     "name": "stdout",
     "output_type": "stream",
     "text": [
      "x raised to power of n is: 5 ^ 3 = 125\n"
     ]
    }
   ],
   "source": [
    "x = int(input(\"x: \"))\n",
    "n = int(input(\"n: \"))\n",
    "\n",
    "result = x**n\n",
    "\n",
    "print(f\"x raised to power of n is: {x} ^ {n} = {result}\")"
   ]
  },
  {
   "cell_type": "markdown",
   "metadata": {
    "id": "WBh2WBXY6iK8",
    "tags": []
   },
   "source": [
    "## Task 09 – Unlimited Power II\n",
    "Using function for factorial and function x^n from previous task, write a program that reads value of x and prints approximate value of e^x. Use this formula (Taylor series) for calculation\n",
    "e^x = 1 + x + \\frac{x^2}{2!} + \\frac{x^3}{3!} + ... + \\frac{x^n}{n!} \n",
    "\n",
    "To get precise value of e^x, the series would have to be infinite. Suppose that there is some required accuracy, so the calculation finishes as soon as the value of the next element is smaller than given threshold (e.g., 0.000001)."
   ]
  },
  {
   "cell_type": "code",
   "execution_count": 42,
   "metadata": {
    "id": "Bx-WQj4v6iK-"
   },
   "outputs": [
    {
     "name": "stdin",
     "output_type": "stream",
     "text": [
      "Schreibe eine Zahl für x:  7\n"
     ]
    },
    {
     "name": "stdout",
     "output_type": "stream",
     "text": [
      "e^7 = 1096.6330406760985\n"
     ]
    }
   ],
   "source": [
    "x = int(input(\"Schreibe eine Zahl für x: \"))\n",
    "\n",
    "def Wert(x, y):\n",
    "    if y == 0:\n",
    "        return 1\n",
    "    else:\n",
    "        return x * Wert(x, y-1)\n",
    "\n",
    "def Funktion(x):\n",
    "    if x == 0:\n",
    "        return 1\n",
    "    else:\n",
    "        return x * Funktion(x-1)\n",
    "\n",
    "def Mathe(x):\n",
    "    n = 0\n",
    "    Ergebniss = 0\n",
    "    while Wert(x, n) / Funktion(n) > 0.0001:\n",
    "        Ergebniss += Wert(x, n) / Funktion(n)\n",
    "        n += 1\n",
    "    return Ergebniss\n",
    "print(f\"e^{x} = {Mathe(x)}\")"
   ]
  },
  {
   "cell_type": "markdown",
   "metadata": {
    "id": "Wl9JCEYM6iK-"
   },
   "source": [
    "## Acknowledgements\n",
    "\n",
    "Redmond, Hsu, Saini, Gupta, Ramsey, Kondrich, Capoor, Cohen, Borus, Kincaid, Malik, and many others. - Stanford CS41"
   ]
  },
  {
   "cell_type": "code",
   "execution_count": null,
   "metadata": {},
   "outputs": [],
   "source": []
  }
 ],
 "metadata": {
  "colab": {
   "provenance": []
  },
  "kernelspec": {
   "display_name": "Python 3 (ipykernel)",
   "language": "python",
   "name": "python3"
  },
  "language_info": {
   "codemirror_mode": {
    "name": "ipython",
    "version": 3
   },
   "file_extension": ".py",
   "mimetype": "text/x-python",
   "name": "python",
   "nbconvert_exporter": "python",
   "pygments_lexer": "ipython3",
   "version": "3.10.6"
  }
 },
 "nbformat": 4,
 "nbformat_minor": 4
}
