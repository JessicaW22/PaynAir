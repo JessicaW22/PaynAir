{
 "cells": [
  {
   "cell_type": "markdown",
   "metadata": {
    "id": "LZgQdr4W6iKz"
   },
   "source": [
    "# Assignment 02\n",
    "##### Python Basics II\n",
    "\n",
    "This tutorial was written by Terry Ruas (University of Göttingen); The references for external contributors for which this material was anyhow adapted/inspired are in the Acknowledgments section (end of the document).\n"
   ]
  },
  {
   "cell_type": "markdown",
   "metadata": {
    "id": "Yvektzz_6iK1"
   },
   "source": [
    "This notebook will cover the following tasks:\n",
    "\n",
    "1. String Length\n",
    "2. Largest List Element\n",
    "3. Character Frequency\n",
    "4. Sorted List of Tuples\n",
    "5. Check Brackets\n",
    "6. Check Brackets II\n",
    "7. Queue\n",
    "8. Unlimited Power\n",
    "9. Unlimited Power II"
   ]
  },
  {
   "cell_type": "markdown",
   "metadata": {
    "id": "4GPUv_8U6iK1"
   },
   "source": [
    "## Task 01 – String Length\n",
    "Write a program that reads in a string and prints the length of the input string. Do not use any built-in functions of Python, such as len().\n",
    "For example, if the input is “Computer Science”, the output should be length: 16."
   ]
  },
  {
   "cell_type": "code",
   "execution_count": 2,
   "metadata": {
    "id": "xt3XV0YD6iK2"
   },
   "outputs": [
    {
     "name": "stdin",
     "output_type": "stream",
     "text": [
      "Geben sie einen string ein:  bafög\n"
     ]
    },
    {
     "name": "stdout",
     "output_type": "stream",
     "text": [
      "Length of the input string is: 5\n"
     ]
    }
   ],
   "source": [
    "\n",
    "str = input('Geben sie einen string ein: ')\n",
    "counter = 0\n",
    "\n",
    "for s in str:\n",
    "      counter = counter+1\n",
    "print(\"Length of the input string is:\", counter)"
   ]
  },
  {
   "cell_type": "markdown",
   "metadata": {
    "id": "_Jz4T4AQ6iK3"
   },
   "source": [
    "## Task 02 – Largest List Element\n",
    "Write a program that generates a list of 10 random integers between 1 and 100 and then finds and prints the largest element in the list. Do not use the built-in function max().\n",
    "For example, if the input is [23,3,42,29,12,15,8,4,37,34], the output should be the largest element: 42.\n",
    "\n",
    "Hint: Check out the module [random](https://docs.python.org/3.7/library/random.html)."
   ]
  },
  {
   "cell_type": "code",
   "execution_count": 4,
   "metadata": {
    "id": "aKLGcZ0_6iK3"
   },
   "outputs": [
    {
     "name": "stdin",
     "output_type": "stream",
     "text": [
      "type any list: 7\n",
      "type Element: 5\n",
      "type Element: 3\n",
      "type Element: 9\n",
      "type Element: 3\n",
      "type Element: 0\n",
      "type Element: 6\n",
      "type Element: 8\n"
     ]
    },
    {
     "name": "stdout",
     "output_type": "stream",
     "text": [
      "[5, 3, 9, 3, 0, 6, 8]\n",
      "largest Number is: 9\n"
     ]
    }
   ],
   "source": [
    "l=[]\n",
    "n= int(input(\"type any list:\"))\n",
    "\n",
    "for i in range(1,n+1): \n",
    "    e=int(input(\"type Element:\"))\n",
    "    l.append(e)\n",
    "\n",
    "print(l)\n",
    "\n",
    "l.sort()\n",
    "\n",
    "print(\"largest Number is:\",l[n-1])"
   ]
  },
  {
   "cell_type": "markdown",
   "metadata": {
    "id": "PalhJ9x36iK4"
   },
   "source": [
    "## Task 03 – Character Frequency\n",
    "Write a program that:\n",
    "* Reads in a string and removes any spaces from the string\n",
    "* Counts how often individual characters occur in the string\n",
    "* Stores the information on character occurrence frequency in a dictionary\n",
    "* Prints the dictionary.\n",
    "\n",
    "For example, if the input is “santa claus”, the output should be:\n",
    "{'s': 2, 'a': 3, 'n': 1, 't': 1, 'c': 1, 'l': 1, 'u': 1}."
   ]
  },
  {
   "cell_type": "code",
   "execution_count": 8,
   "metadata": {
    "id": "vm5UlcKB6iK4"
   },
   "outputs": [
    {
     "name": "stdin",
     "output_type": "stream",
     "text": [
      "input: santa claus\n"
     ]
    },
    {
     "name": "stdout",
     "output_type": "stream",
     "text": [
      "santaclaus\n",
      "{'s': 2, 'l': 1, 'n': 1, 'c': 1, 't': 1, 'a': 3, 'u': 1}\n"
     ]
    }
   ],
   "source": [
    "string = input(\"input:\")\n",
    "string = string.replace(\" \", \"\")\n",
    "print(string)\n",
    "\n",
    "stringSet = set(string) \n",
    "def countCharacterFrequency(string):\n",
    "        frequency = {} \n",
    "        for i in stringSet:\n",
    "           frequency[i] = string.count(i) \n",
    "        return frequency\n",
    "\n",
    "print(countCharacterFrequency(string))"
   ]
  },
  {
   "cell_type": "markdown",
   "metadata": {
    "id": "JV1Mm9qA6iK5"
   },
   "source": [
    "## Task 04 – Sorted List of Tuples\n",
    "Write a program that:\n",
    "* Generates a list of 10 tuples, each tuple consisting of 3 random integers between 1 and 100\n",
    "* Sorts the list of tuples in increasing order of the third element in each tuple\n",
    "* Prints the sorted list of tuples\n",
    "\n",
    "For example, if the generated input list is: [(56, 77, 69), (43, 30, 38), (2, 77, 101), (93, 57, 4), (74, 21, 77), (39, 68, 68), (65, 53, 96), (16, 29, 88), (88, 70, 38)]\n",
    "The output should be: [(93, 57, 4), (43, 30, 38), (88, 70, 38), (39, 68, 68), (56, 77, 69), (74, 21, 77), (16, 29, 88), (65, 53, 96), (2, 77, 101)]\n",
    "\n",
    "Hint: You are allowed and encouraged to use built-in functions, such as [sorted()](https://docs.python.org/3.7/library/functions.html?highlight=sorted#sorted), for this task."
   ]
  },
  {
   "cell_type": "code",
   "execution_count": 9,
   "metadata": {
    "id": "C3i7ctus6iK6"
   },
   "outputs": [
    {
     "name": "stdout",
     "output_type": "stream",
     "text": [
      "Meine list.: [(98, 63, 22), (21, 9, 44), (99, 52, 3), (12, 1, 64), (13, 20, 16), (53, 37, 22), (78, 90, 23), (14, 48, 70), (21, 100, 89), (54, 71, 97)]\n",
      "Sortierte Liste: [(99, 52, 3), (13, 20, 16), (98, 63, 22), (53, 37, 22), (78, 90, 23), (21, 9, 44), (12, 1, 64), (14, 48, 70), (21, 100, 89), (54, 71, 97)]\n"
     ]
    }
   ],
   "source": [
    "number_lists=[\n",
    "    (98,63,22),(21,9,44),(99,52,3),(12,1,64),(13,20,16),(53,37,22),(78,90,23),(14,48,70),(21,100,89),(54,71,97)]\n",
    "\n",
    "\n",
    "print(\"Meine list.:\", number_lists)\n",
    "number_lists.sort(key=lambda item:item[2])\n",
    "print(\"Sortierte Liste:\", number_lists)"
   ]
  },
  {
   "cell_type": "markdown",
   "metadata": {
    "id": "qz4P36Lz6iK6"
   },
   "source": [
    "## Task 05 – Check Brackets\n",
    "Write a program that reads in a string, which is supposed to be a mathematical expression. Focus on brackets only and check whether left and right brackets are composed correctly. Ignore all other characters (i.e. you don’t have to check correctness of operators and operands).\n",
    "Examples of correct input:\n",
    "* 3*(2+5)\n",
    "* ((()())())\n",
    "* (3+)(((4)))\n",
    "* Empty string\n",
    "\n",
    "Examples of incorrect input:\n",
    "* (3*(2+5)\n",
    "* ((()())(())\n",
    "* (3+)((4)))\n",
    "* ())(()\n"
   ]
  },
  {
   "cell_type": "code",
   "execution_count": null,
   "metadata": {
    "id": "2c67p_Zc6iK7"
   },
   "outputs": [],
   "source": [
    "x= input(\"type in any formula:\")\n",
    "\n",
    "count=0\n",
    "aus=True\n",
    "for a in x:\n",
    "    if a == \"(\":\n",
    "        count+= 1\n",
    "    elif a == \")\":\n",
    "        count -= 1\n",
    "        \n",
    "    if count <0:\n",
    "        aus = False\n",
    "        \n",
    "if count != 0:\n",
    "    aus= False\n",
    "    \n",
    "if aus:\n",
    "    print(\"correct:\")\n",
    "else:\n",
    "    print(\"Inkorrekte Mathematische Formel\")"
   ]
  },
  {
   "cell_type": "markdown",
   "metadata": {
    "id": "k1kh3odh6iK7"
   },
   "source": [
    "## Task 06 – Check Brackets II\n",
    "Extend previous program, so it can handle also square and curly brackets. Note that expressions in brackets cannot overlap. So, expression ```{[()()]([[]])}{}``` is correct, but expression ```([)]``` is not."
   ]
  },
  {
   "cell_type": "code",
   "execution_count": null,
   "metadata": {
    "id": "2-UCbTRQ6iK7"
   },
   "outputs": [],
   "source": [
    "input(\"Gimme some brackets: \")\n",
    "\n",
    "string= input()\n",
    "\n",
    "baa=False\n",
    "for a in string:\n",
    "    if a not in \"([{}])\":\n",
    "        string = string.replace(a,\"\")\n",
    "        string_2 = string.replace(a,\"\")\n",
    "        \n",
    "        while string_2 != string:\n",
    "            string_2 =string\n",
    "            string=string.replace(\"()\",\"\")\n",
    "            string=string.replace(\"[]\",\"\")\n",
    "            string=string.replace(\"{}\",\"\")\n",
    "    \n",
    "    if string== \"\":\n",
    "    print(\"them Brackets are correct\")\n",
    "    \n",
    "else:\n",
    "    print(\"those Brackets aren't alright\")\n",
    "                "
   ]
  },
  {
   "cell_type": "markdown",
   "metadata": {
    "id": "tc-8rPlP6iK7"
   },
   "source": [
    "## Task 07 – Queue\n",
    "Write a program that simulates a queue. It will read strings from the input. Consider these inputs as names of people coming to the end of a queue. Whenever “next” is given as input, the program will print out the name on the turn. The program finishes as soon as the queue is empty."
   ]
  },
  {
   "cell_type": "code",
   "execution_count": null,
   "metadata": {
    "id": "X0o04N6s6iK7"
   },
   "outputs": [],
   "source": [
    "print(\"who is on queue? Type in: \")\n",
    "print(\"Hit enter after every name. r to remove, q to quit\")\n",
    "\n",
    "queue=[]\n",
    "\n",
    "while True:\n",
    "    data=input()\n",
    "    if str.lower(data)==\"q\":\n",
    "        break\n",
    "    elif str.lower(data)==\"next\":\n",
    "        print(\"Removing:\", queue.pop(0))\n",
    "    else:\n",
    "        queue.append(data)\n",
    "    print(queue)\n",
    "\n",
    "for Names  in queue:\n",
    "    print(\"this Person came first:\", Names)"
   ]
  },
  {
   "cell_type": "markdown",
   "metadata": {
    "id": "eIhaN3g36iK8"
   },
   "source": [
    "## Task 08 – Unlimited Power\n",
    "Write a function with two arguments – $x$ and $n$. The function returns the value of $x^n$. Use [recursion](https://realpython.com/python-thinking-recursively/#recursive-data-structures-in-python)."
   ]
  },
  {
   "cell_type": "code",
   "execution_count": 7,
   "metadata": {
    "id": "KSGHEAeL6iK8"
   },
   "outputs": [
    {
     "name": "stdin",
     "output_type": "stream",
     "text": [
      "x:  12\n",
      "n:  26\n"
     ]
    },
    {
     "name": "stdout",
     "output_type": "stream",
     "text": [
      "a raised ti power of n is: 12 ^ 26 = 11447545997288281555215581184\n"
     ]
    }
   ],
   "source": [
    "a= int(input(\"x: \"))\n",
    "n= int(input(\"n: \"))\n",
    "\n",
    "resultat = a**n\n",
    "\n",
    "print(f\"a raised ti power of n is: {a} ^ {n}={resultat}\")"
   ]
  },
  {
   "cell_type": "markdown",
   "metadata": {
    "id": "WBh2WBXY6iK8",
    "jp-MarkdownHeadingCollapsed": true,
    "tags": []
   },
   "source": [
    "## Task 09 – Unlimited Power II\n",
    "Using function for factorial and function $x^n$ from previous task, write a program that reads value of $x$ and prints approximate value of $e^x$. Use this formula (Taylor series) for calculation\n",
    "$$ e^x = 1 + x + \\frac{x^2}{2!} + \\frac{x^3}{3!} + ... + \\frac{x^n}{n!} $$\n",
    "\n",
    "To get precise value of $e^x$, the series would have to be infinite. Suppose that there is some required accuracy, so the calculation finishes as soon as the value of the next element is smaller than given threshold (e.g., 0.000001)."
   ]
  },
  {
   "cell_type": "code",
   "execution_count": null,
   "metadata": {
    "id": "tRaZgBVX6iK9"
   },
   "outputs": [],
   "source": [
    "x= int(input(\"x: \"))\n",
    "\n",
    "def Wert(x,y):\n",
    "    if y== 0:\n",
    "        return 1\n",
    "    else:\n",
    "        return x * Wert(x,y-1)\n",
    "    \n",
    "    def Funktion(x):\n",
    "        if x == 0:\n",
    "            return 1\n",
    "        else:\n",
    "            return x + Funktion(x-1)\n",
    "    \n",
    "    def Mathe(x):\n",
    "        n= 0\n",
    "        Ergebniss = 0\n",
    "        while Wert(x, n) / Funktion(n) > 0.0001:\n",
    "            Ergebniss += Wert(x, n) / Funktion(n)\n",
    "            n+=1\n",
    "return Ergebniss\n",
    "\n",
    "print(f\"e^{x} = {Mathe(x)}\")"
   ]
  },
  {
   "cell_type": "markdown",
   "metadata": {
    "id": "Wl9JCEYM6iK-"
   },
   "source": [
    "## Acknowledgements\n",
    "\n",
    "Redmond, Hsu, Saini, Gupta, Ramsey, Kondrich, Capoor, Cohen, Borus, Kincaid, Malik, and many others. - Stanford CS41"
   ]
  },
  {
   "cell_type": "code",
   "execution_count": null,
   "metadata": {
    "id": "Bx-WQj4v6iK-"
   },
   "outputs": [],
   "source": []
  }
 ],
 "metadata": {
  "colab": {
   "provenance": []
  },
  "kernelspec": {
   "display_name": "Python 3 (ipykernel)",
   "language": "python",
   "name": "python3"
  },
  "language_info": {
   "codemirror_mode": {
    "name": "ipython",
    "version": 3
   },
   "file_extension": ".py",
   "mimetype": "text/x-python",
   "name": "python",
   "nbconvert_exporter": "python",
   "pygments_lexer": "ipython3",
   "version": "3.10.6"
  }
 },
 "nbformat": 4,
 "nbformat_minor": 4
}
