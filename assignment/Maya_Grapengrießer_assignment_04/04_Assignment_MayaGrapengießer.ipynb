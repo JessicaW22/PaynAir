{
 "cells": [
  {
   "cell_type": "markdown",
   "metadata": {
    "id": "_ikvQGPR7a99"
   },
   "source": [
    "# Assignment 04\n",
    "#### Python Basics IV - Functions, Unity Testing, and Logging\n",
    "\n",
    "This tutorial was written by Terry L. Ruas (University of Göttingen). The references for external contributors for which this material was anyhow adapted/inspired are in the Acknowledgments section (end of the document)."
   ]
  },
  {
   "cell_type": "markdown",
   "metadata": {
    "id": "SchiSV187a9-"
   },
   "source": [
    "This notebook will cover the following tasks:\n",
    "\n",
    "1. Lambda functions\n",
    "2. List comprehensions\n",
    "3. Unity Test\n",
    "4. HTTP Request\n",
    "5. Logging\n",
    "6. Download File"
   ]
  },
  {
   "cell_type": "markdown",
   "metadata": {
    "id": "QOoNCxgu7a-A"
   },
   "source": [
    "## Task 01 – Lambda functions\n",
    "Python supports lambda functions as a handy way to define small, anonymous, i.e., unnamed, functions inline. The basic syntax for lambda functions is:\n",
    "$$\n",
    " \\textbf{lambda}\\text{ parameter1, parameter2, ... : }\\textbf{expression}\n",
    "$$\n",
    "Use a lambda function only to retain the even values in an array of integers. Test your function with an input array of your choosing. Print the input array and the filtered output array to stdout."
   ]
  },
  {
   "cell_type": "code",
   "execution_count": 12,
   "metadata": {},
   "outputs": [
    {
     "name": "stdout",
     "output_type": "stream",
     "text": [
      "[2, 4, 6, 8]\n"
     ]
    }
   ],
   "source": [
    "array = range(1,10)\n",
    "Ergebniss = list(filter(lambda x: x % 2 == 0, array))\n",
    "print(Ergebniss)"
   ]
  },
  {
   "cell_type": "markdown",
   "metadata": {
    "id": "XSyLzHT17a-B"
   },
   "source": [
    "## Task 02 – List comprehensions\n",
    "Python supports list comprehension. The basic syntax of list comprehensions is:\n",
    "$$\n",
    "\\text{L = [<elem> for <elem> <Condition>]}\n",
    "$$\n",
    "Use list comprehensions to write a Python function *remove_long_words()* that:\n",
    "- accepts a sentence s and an integer n as input parameters\n",
    "- uses the *split()* function of String objects to split the sentence into words\n",
    "- stores the individual words in a list\n",
    "- removes all words that are longer than n characters from the list, thereby creating a new list\n",
    "- prints the list to stdout"
   ]
  },
  {
   "cell_type": "code",
   "execution_count": 24,
   "metadata": {},
   "outputs": [
    {
     "name": "stdout",
     "output_type": "stream",
     "text": [
      "Das Laggerregal ist momentan sehr voll\n",
      "['Das', 'ist', 'sehr', 'voll']\n"
     ]
    }
   ],
   "source": [
    "s = \"Das Laggerregal ist momentan sehr voll\"\n",
    "n = 5 \n",
    "\n",
    "sentence = s.split(\" \")\n",
    "Mylist = [x for x in sentence if len(x) <n]\n",
    "\n",
    "print(s)\n",
    "print(Mylist)"
   ]
  },
  {
   "cell_type": "markdown",
   "metadata": {
    "id": "_QHEBddh7a-C"
   },
   "source": [
    "## Task 03 – Unity Test\n",
    "The following algorithm in Python converts numbers in decimal representation to binary.\n",
    "1. Develop a unit test that checks for values in the interval \\[-1,3\\] whether the algorithm returns the\n",
    "expected results.\n",
    "2. Adjust the algorithm, so it passes the unit test developed in 1). Rename the function to\n",
    "*decimal_to_binary_correct()*"
   ]
  },
  {
   "cell_type": "code",
   "execution_count": 1,
   "metadata": {
    "id": "IdFKIU4u7a-C"
   },
   "outputs": [],
   "source": [
    "import math\n",
    "def decimal2binary(n):\n",
    "    # function to convert decimal integers to binary\n",
    "    x = []\n",
    "    while n > 0:\n",
    "        x.append(n % 2)\n",
    "        n = math.floor(n/2)\n",
    "    return x[::-1]"
   ]
  },
  {
   "cell_type": "markdown",
   "metadata": {
    "id": "iNLOQ5y47a-E"
   },
   "source": [
    "## Task 04 – HTTP Request\n",
    "Working with HTTP connections is essential for many data gathering tasks. The Python library *urllib* provides all functionality we need.\n",
    "Write a Python function *open_url(url)* that:\n",
    "- uses urllib to establish a HTTP connection to an arbitrary website\n",
    "- retrieves and prints the first 200 characters of the html resource, i.e. the html source code, of the chosen website\n",
    "- handles the exceptions thrown by the *urllib.request* function\n",
    "\n",
    "FYI: The basic syntax for exception handling in Python is as follows:\n",
    "```\n",
    "try:\n",
    "    ...\n",
    "    return ...\n",
    "except SomeError1 as e:\n",
    "    # error-specific exception handling\n",
    "except SomeError2 as e:\n",
    "    # error-specific exception handling\n",
    "except\n",
    "    # general exception handling\n",
    "```"
   ]
  },
  {
   "cell_type": "code",
   "execution_count": 3,
   "metadata": {},
   "outputs": [
    {
     "name": "stdout",
     "output_type": "stream",
     "text": [
      "Status :  406\n",
      "Reason :  Not Acceptable\n",
      "URL :  https://codeloop.org/\n"
     ]
    }
   ],
   "source": [
    "from urllib.request import urlopen\n",
    "import urllib.error \n",
    "\n",
    "try:\n",
    "    urlopen(\"https://codeloop.org/\")\n",
    "    \n",
    "except urllib.error.HTTPError as e:\n",
    "    print(\"Status : \" , e.code)\n",
    "    print(\"Reason : \", e.reason)\n",
    "    print(\"URL : \" , e.url)\n"
   ]
  },
  {
   "cell_type": "code",
   "execution_count": 4,
   "metadata": {},
   "outputs": [
    {
     "name": "stdin",
     "output_type": "stream",
     "text": [
      "Schreibe eine Website mit www... www.Instagram.de\n"
     ]
    },
    {
     "name": "stdout",
     "output_type": "stream",
     "text": [
      "URL: www.Instagram.de\n"
     ]
    }
   ],
   "source": [
    "import urllib.request\n",
    "def open_url(url):\n",
    "    \n",
    "    try: \n",
    "        request_url = urllib.request.urlopen(url)\n",
    "        content = request_url.read()\n",
    "        string = content.decode(\"utf-8\")\n",
    "        \n",
    "        print(string[:200])\n",
    "        \n",
    "    except Exception as e:\n",
    "            print(f\"URL: {url}\")\n",
    "            \n",
    "if __name__== \"__main__\":\n",
    "    open_url(input(\"Schreibe eine Website mit www...\"))"
   ]
  },
  {
   "cell_type": "markdown",
   "metadata": {
    "id": "ogac-RcI7a-F"
   },
   "source": [
    "## Task 05 – Logging\n",
    "The logging module in Python provides functionality for logging and debugging purposes. Use the logging module to extend the error handling for the function that you implemented to establish a HTTP connection (Task 4). All exceptions thrown by your function shall be logged as errors.\n",
    "\n",
    "To accomplish the task:\n",
    "- write a Python function *init_log(file_name, file_mode, level, format, date_format)* that initializes a custom log file to which all debugging information and errors are appended using a format that includes the date, time, level and the message of the logging event\n",
    "- log occurring errors by calling *logging.error(...)*\n",
    "- close the log after completing your task by calling *logging.shutdown()*\n",
    "\n",
    "If you choose not to complete Tasks 4, test the logging functionality with a few examples of your own."
   ]
  },
  {
   "cell_type": "code",
   "execution_count": 23,
   "metadata": {},
   "outputs": [
    {
     "name": "stderr",
     "output_type": "stream",
     "text": [
      "DEBUG:root:debug\n",
      "INFO:root:info\n",
      "WARNING:root:warning\n",
      "ERROR:root:error\n"
     ]
    },
    {
     "name": "stdin",
     "output_type": "stream",
     "text": [
      "Schreibe eine Website mit www... www.Instagram.de\n"
     ]
    },
    {
     "name": "stderr",
     "output_type": "stream",
     "text": [
      "ERROR:root:unknown url type: 'www.Instagram.de'\n"
     ]
    },
    {
     "name": "stdout",
     "output_type": "stream",
     "text": [
      "URL: www.Instagram.de\n"
     ]
    }
   ],
   "source": [
    "import logging \n",
    "import urllib.request\n",
    "\n",
    "logging.basicConfig(level=logging.ERROR, filename=\"log.log\", filemode=\"w\",\n",
    "                    format=\"%(asctime)s - %(levelname)s - %(message)s\")\n",
    "                    \n",
    "logging.debug(\"debug\")\n",
    "logging.info(\"info\")\n",
    "logging.warning(\"warning\")\n",
    "logging.error(\"error\")\n",
    "                \n",
    "            \n",
    "def open_url(url):\n",
    "    \n",
    "    try: \n",
    "        request_url = urllib.request.urlopen(url)\n",
    "        content = request_url.read()\n",
    "        string = content.decode(\"utf-8\")\n",
    "        \n",
    "        print(string[:200])\n",
    "        \n",
    "    except Exception as e:\n",
    "            logger.error(e)\n",
    "            print(f\"URL: {url}\")\n",
    "            \n",
    "if __name__== \"__main__\":\n",
    "    logger = init_log(\"mylog.txt\", \"w\", \"DEBUG\", \"message\", \"asctime\")\n",
    "    open_url(input(\"Schreibe eine Website mit www...\"))\n",
    "      "
   ]
  },
  {
   "cell_type": "markdown",
   "metadata": {
    "id": "FFvlZPUc7a-G"
   },
   "source": [
    "## Task 06 – Download File\n",
    "In Task 4, you used the *urllib* library to establish a http connection. You can also use the *urllib* library to perform simple file downloads.\n",
    "\n",
    "Write a Python function *download_file(url, path)* that:\n",
    "- checks whether the input URL points to a .txt file\n",
    "- if the input URL points to a .txt file, uses the *urllib* library to download and write the text file to the given path on your machine\n",
    "- logs an error “No text file found at given URL, download aborted!” to the log file created in Task 5 if the input URL does not point to a .txt file.\n",
    "- properly handles exceptions\n",
    "\n",
    "Use the *download_file()* function to download William Shakespeare’s drama Macbeth as a plain\n",
    "text file from: [Macbeth](https://ia802707.us.archive.org/1/items/macbeth02264gut/0ws3410.txt)"
   ]
  },
  {
   "cell_type": "code",
   "execution_count": 1,
   "metadata": {},
   "outputs": [],
   "source": [
    "from os import execlp\n",
    "import urllib.request\n",
    "\n",
    "def download_file(url, path):\n",
    "  try:     \n",
    "    if url[-4:] == \".txt\":\n",
    "      urllib.request.urlretrieve(url, path)\n",
    "    else: \n",
    "      raise NameError('URL name wrong name') \n",
    "  except:\n",
    "    return \"No text file found at given URL, download aborted!\"\n",
    "download_file('https://ia802707.us.archive.org/1/items/macbeth02264gut/0ws3410.txt','p')"
   ]
  },
  {
   "cell_type": "code",
   "execution_count": 12,
   "metadata": {},
   "outputs": [],
   "source": [
    "import urllib.request \n",
    "from os import execlp\n",
    "\n",
    "def download_file(url, path):\n",
    "    try:\n",
    "        if url [-4:] == \".txt\":\n",
    "            urllib.request.urlretrieve(url, path)\n",
    "        else:\n",
    "            raise NameError(\"Falscher Name der URL\")\n",
    "    except:\n",
    "            return \"Keine txt Datei gefunden in der gegeben URL\"\n",
    "download_file(\"https://ia802707.us.archive.org/1/items/macbeth02264gut/0ws3410.txt\",\"p\")         "
   ]
  },
  {
   "cell_type": "code",
   "execution_count": null,
   "metadata": {},
   "outputs": [],
   "source": []
  }
 ],
 "metadata": {
  "colab": {
   "provenance": []
  },
  "kernelspec": {
   "display_name": "Python 3 (ipykernel)",
   "language": "python",
   "name": "python3"
  },
  "language_info": {
   "codemirror_mode": {
    "name": "ipython",
    "version": 3
   },
   "file_extension": ".py",
   "mimetype": "text/x-python",
   "name": "python",
   "nbconvert_exporter": "python",
   "pygments_lexer": "ipython3",
   "version": "3.10.6"
  }
 },
 "nbformat": 4,
 "nbformat_minor": 4
}
